{
 "cells": [
  {
   "cell_type": "code",
   "execution_count": 1,
   "id": "e74f85bb",
   "metadata": {},
   "outputs": [],
   "source": [
    "#importing the libraries\n",
    "import pandas as pd\n",
    "import numpy as np\n",
    "import seaborn as sns\n",
    "from sklearn.model_selection import train_test_split\n",
    "from sklearn.preprocessing import StandardScaler\n",
    "from sklearn.metrics import classification_report, confusion_matrix, accuracy_score\n",
    "from sklearn.linear_model import LogisticRegression\n",
    "import statsmodels.api as smd\n",
    "import scipy.stats as st\n",
    "import sklearn\n",
    "import matplotlib.pyplot as plt"
   ]
  },
  {
   "cell_type": "code",
   "execution_count": 2,
   "id": "7404ad45",
   "metadata": {},
   "outputs": [],
   "source": [
    "#importing the dataset \n",
    "dataset=pd.read_csv(\"C:/Users/Admin/Documents/BasicScore.csv\")"
   ]
  },
  {
   "cell_type": "code",
   "execution_count": 3,
   "id": "49f5395d",
   "metadata": {},
   "outputs": [
    {
     "data": {
      "text/plain": [
       "(199290, 11)"
      ]
     },
     "execution_count": 3,
     "metadata": {},
     "output_type": "execute_result"
    }
   ],
   "source": [
    "# shows count of rows and columns\n",
    "dataset.shape"
   ]
  },
  {
   "cell_type": "code",
   "execution_count": 4,
   "id": "3270eacd",
   "metadata": {},
   "outputs": [
    {
     "data": {
      "text/html": [
       "<div>\n",
       "<style scoped>\n",
       "    .dataframe tbody tr th:only-of-type {\n",
       "        vertical-align: middle;\n",
       "    }\n",
       "\n",
       "    .dataframe tbody tr th {\n",
       "        vertical-align: top;\n",
       "    }\n",
       "\n",
       "    .dataframe thead th {\n",
       "        text-align: right;\n",
       "    }\n",
       "</style>\n",
       "<table border=\"1\" class=\"dataframe\">\n",
       "  <thead>\n",
       "    <tr style=\"text-align: right;\">\n",
       "      <th></th>\n",
       "      <th>insured_username</th>\n",
       "      <th>insured</th>\n",
       "      <th>snapshot_date</th>\n",
       "      <th>name</th>\n",
       "      <th>score</th>\n",
       "      <th>measure</th>\n",
       "      <th>peer_group</th>\n",
       "      <th>display_text</th>\n",
       "      <th>is_alert</th>\n",
       "      <th>has_serious_vio</th>\n",
       "      <th>above_threshold</th>\n",
       "    </tr>\n",
       "  </thead>\n",
       "  <tbody>\n",
       "    <tr>\n",
       "      <th>0</th>\n",
       "      <td>2162612</td>\n",
       "      <td>ARC TRANSPORT INC</td>\n",
       "      <td>30/4/21</td>\n",
       "      <td>Unsafe Driving</td>\n",
       "      <td>50.0</td>\n",
       "      <td>4.59090</td>\n",
       "      <td>1.0</td>\n",
       "      <td>0.5</td>\n",
       "      <td>False</td>\n",
       "      <td>False</td>\n",
       "      <td>False</td>\n",
       "    </tr>\n",
       "    <tr>\n",
       "      <th>1</th>\n",
       "      <td>2162612</td>\n",
       "      <td>ARC TRANSPORT INC</td>\n",
       "      <td>28/5/21</td>\n",
       "      <td>Unsafe Driving</td>\n",
       "      <td>48.0</td>\n",
       "      <td>4.36363</td>\n",
       "      <td>1.0</td>\n",
       "      <td>0.48</td>\n",
       "      <td>False</td>\n",
       "      <td>False</td>\n",
       "      <td>False</td>\n",
       "    </tr>\n",
       "    <tr>\n",
       "      <th>2</th>\n",
       "      <td>2162612</td>\n",
       "      <td>ARC TRANSPORT INC</td>\n",
       "      <td>25/6/21</td>\n",
       "      <td>Unsafe Driving</td>\n",
       "      <td>52.0</td>\n",
       "      <td>4.88888</td>\n",
       "      <td>1.0</td>\n",
       "      <td>0.52</td>\n",
       "      <td>False</td>\n",
       "      <td>False</td>\n",
       "      <td>False</td>\n",
       "    </tr>\n",
       "    <tr>\n",
       "      <th>3</th>\n",
       "      <td>2162612</td>\n",
       "      <td>ARC TRANSPORT INC</td>\n",
       "      <td>30/7/21</td>\n",
       "      <td>Unsafe Driving</td>\n",
       "      <td>52.0</td>\n",
       "      <td>4.88888</td>\n",
       "      <td>1.0</td>\n",
       "      <td>0.52</td>\n",
       "      <td>False</td>\n",
       "      <td>False</td>\n",
       "      <td>False</td>\n",
       "    </tr>\n",
       "    <tr>\n",
       "      <th>4</th>\n",
       "      <td>2162612</td>\n",
       "      <td>ARC TRANSPORT INC</td>\n",
       "      <td>27/8/21</td>\n",
       "      <td>Unsafe Driving</td>\n",
       "      <td>49.0</td>\n",
       "      <td>4.61111</td>\n",
       "      <td>1.0</td>\n",
       "      <td>0.49</td>\n",
       "      <td>False</td>\n",
       "      <td>False</td>\n",
       "      <td>False</td>\n",
       "    </tr>\n",
       "  </tbody>\n",
       "</table>\n",
       "</div>"
      ],
      "text/plain": [
       "   insured_username            insured snapshot_date            name  score  \\\n",
       "0           2162612  ARC TRANSPORT INC       30/4/21  Unsafe Driving   50.0   \n",
       "1           2162612  ARC TRANSPORT INC       28/5/21  Unsafe Driving   48.0   \n",
       "2           2162612  ARC TRANSPORT INC       25/6/21  Unsafe Driving   52.0   \n",
       "3           2162612  ARC TRANSPORT INC       30/7/21  Unsafe Driving   52.0   \n",
       "4           2162612  ARC TRANSPORT INC       27/8/21  Unsafe Driving   49.0   \n",
       "\n",
       "   measure  peer_group display_text  is_alert  has_serious_vio  \\\n",
       "0  4.59090         1.0          0.5     False            False   \n",
       "1  4.36363         1.0         0.48     False            False   \n",
       "2  4.88888         1.0         0.52     False            False   \n",
       "3  4.88888         1.0         0.52     False            False   \n",
       "4  4.61111         1.0         0.49     False            False   \n",
       "\n",
       "   above_threshold  \n",
       "0            False  \n",
       "1            False  \n",
       "2            False  \n",
       "3            False  \n",
       "4            False  "
      ]
     },
     "execution_count": 4,
     "metadata": {},
     "output_type": "execute_result"
    }
   ],
   "source": [
    "#shows first few rows of the code\n",
    "dataset.head()"
   ]
  },
  {
   "cell_type": "code",
   "execution_count": 5,
   "id": "95216a62",
   "metadata": {},
   "outputs": [
    {
     "data": {
      "text/plain": [
       "(199290, 7)"
      ]
     },
     "execution_count": 5,
     "metadata": {},
     "output_type": "execute_result"
    }
   ],
   "source": [
    "#dropping INSUREDNAME column and insured_username column from the dataset\n",
    "dataset=dataset.drop('insured',axis=1)\n",
    "dataset=dataset.drop('insured_username',axis=1)\n",
    "dataset=dataset.drop('snapshot_date',axis=1)\n",
    "dataset=dataset.drop('name',axis=1)\n",
    "dataset.shape"
   ]
  },
  {
   "cell_type": "code",
   "execution_count": 6,
   "id": "ef745b56",
   "metadata": {},
   "outputs": [
    {
     "data": {
      "text/html": [
       "<div>\n",
       "<style scoped>\n",
       "    .dataframe tbody tr th:only-of-type {\n",
       "        vertical-align: middle;\n",
       "    }\n",
       "\n",
       "    .dataframe tbody tr th {\n",
       "        vertical-align: top;\n",
       "    }\n",
       "\n",
       "    .dataframe thead th {\n",
       "        text-align: right;\n",
       "    }\n",
       "</style>\n",
       "<table border=\"1\" class=\"dataframe\">\n",
       "  <thead>\n",
       "    <tr style=\"text-align: right;\">\n",
       "      <th></th>\n",
       "      <th>score</th>\n",
       "      <th>measure</th>\n",
       "      <th>peer_group</th>\n",
       "      <th>display_text</th>\n",
       "      <th>is_alert</th>\n",
       "      <th>has_serious_vio</th>\n",
       "      <th>above_threshold</th>\n",
       "    </tr>\n",
       "  </thead>\n",
       "  <tbody>\n",
       "    <tr>\n",
       "      <th>0</th>\n",
       "      <td>50.0</td>\n",
       "      <td>4.59090</td>\n",
       "      <td>1.0</td>\n",
       "      <td>0.5</td>\n",
       "      <td>False</td>\n",
       "      <td>False</td>\n",
       "      <td>False</td>\n",
       "    </tr>\n",
       "    <tr>\n",
       "      <th>1</th>\n",
       "      <td>48.0</td>\n",
       "      <td>4.36363</td>\n",
       "      <td>1.0</td>\n",
       "      <td>0.48</td>\n",
       "      <td>False</td>\n",
       "      <td>False</td>\n",
       "      <td>False</td>\n",
       "    </tr>\n",
       "    <tr>\n",
       "      <th>2</th>\n",
       "      <td>52.0</td>\n",
       "      <td>4.88888</td>\n",
       "      <td>1.0</td>\n",
       "      <td>0.52</td>\n",
       "      <td>False</td>\n",
       "      <td>False</td>\n",
       "      <td>False</td>\n",
       "    </tr>\n",
       "    <tr>\n",
       "      <th>3</th>\n",
       "      <td>52.0</td>\n",
       "      <td>4.88888</td>\n",
       "      <td>1.0</td>\n",
       "      <td>0.52</td>\n",
       "      <td>False</td>\n",
       "      <td>False</td>\n",
       "      <td>False</td>\n",
       "    </tr>\n",
       "    <tr>\n",
       "      <th>4</th>\n",
       "      <td>49.0</td>\n",
       "      <td>4.61111</td>\n",
       "      <td>1.0</td>\n",
       "      <td>0.49</td>\n",
       "      <td>False</td>\n",
       "      <td>False</td>\n",
       "      <td>False</td>\n",
       "    </tr>\n",
       "  </tbody>\n",
       "</table>\n",
       "</div>"
      ],
      "text/plain": [
       "   score  measure  peer_group display_text  is_alert  has_serious_vio  \\\n",
       "0   50.0  4.59090         1.0          0.5     False            False   \n",
       "1   48.0  4.36363         1.0         0.48     False            False   \n",
       "2   52.0  4.88888         1.0         0.52     False            False   \n",
       "3   52.0  4.88888         1.0         0.52     False            False   \n",
       "4   49.0  4.61111         1.0         0.49     False            False   \n",
       "\n",
       "   above_threshold  \n",
       "0            False  \n",
       "1            False  \n",
       "2            False  \n",
       "3            False  \n",
       "4            False  "
      ]
     },
     "execution_count": 6,
     "metadata": {},
     "output_type": "execute_result"
    }
   ],
   "source": [
    "dataset.head()"
   ]
  },
  {
   "cell_type": "code",
   "execution_count": 7,
   "id": "6c2eb572",
   "metadata": {},
   "outputs": [
    {
     "data": {
      "text/plain": [
       "score              92239\n",
       "measure            43745\n",
       "peer_group         99347\n",
       "display_text          49\n",
       "is_alert               0\n",
       "has_serious_vio        0\n",
       "above_threshold        0\n",
       "dtype: int64"
      ]
     },
     "execution_count": 7,
     "metadata": {},
     "output_type": "execute_result"
    }
   ],
   "source": [
    "# explore missing values\n",
    "dataset.isna().sum()"
   ]
  },
  {
   "cell_type": "code",
   "execution_count": 8,
   "id": "1f455f87",
   "metadata": {},
   "outputs": [],
   "source": [
    "dataset = dataset.dropna()"
   ]
  },
  {
   "cell_type": "code",
   "execution_count": 9,
   "id": "735b2102",
   "metadata": {},
   "outputs": [
    {
     "data": {
      "text/plain": [
       "score              0\n",
       "measure            0\n",
       "peer_group         0\n",
       "display_text       0\n",
       "is_alert           0\n",
       "has_serious_vio    0\n",
       "above_threshold    0\n",
       "dtype: int64"
      ]
     },
     "execution_count": 9,
     "metadata": {},
     "output_type": "execute_result"
    }
   ],
   "source": [
    "dataset.isna().sum()"
   ]
  },
  {
   "cell_type": "code",
   "execution_count": 10,
   "id": "85ffc1c4",
   "metadata": {},
   "outputs": [
    {
     "name": "stdout",
     "output_type": "stream",
     "text": [
      "<class 'pandas.core.frame.DataFrame'>\n",
      "Int64Index: 76436 entries, 0 to 199286\n",
      "Data columns (total 7 columns):\n",
      " #   Column           Non-Null Count  Dtype  \n",
      "---  ------           --------------  -----  \n",
      " 0   score            76436 non-null  float64\n",
      " 1   measure          76436 non-null  float64\n",
      " 2   peer_group       76436 non-null  float64\n",
      " 3   display_text     76436 non-null  object \n",
      " 4   is_alert         76436 non-null  bool   \n",
      " 5   has_serious_vio  76436 non-null  bool   \n",
      " 6   above_threshold  76436 non-null  bool   \n",
      "dtypes: bool(3), float64(3), object(1)\n",
      "memory usage: 3.1+ MB\n"
     ]
    }
   ],
   "source": [
    "dataset.info()"
   ]
  },
  {
   "cell_type": "code",
   "execution_count": 11,
   "id": "4d8f7f47",
   "metadata": {
    "scrolled": true
   },
   "outputs": [
    {
     "data": {
      "text/html": [
       "<div>\n",
       "<style scoped>\n",
       "    .dataframe tbody tr th:only-of-type {\n",
       "        vertical-align: middle;\n",
       "    }\n",
       "\n",
       "    .dataframe tbody tr th {\n",
       "        vertical-align: top;\n",
       "    }\n",
       "\n",
       "    .dataframe thead th {\n",
       "        text-align: right;\n",
       "    }\n",
       "</style>\n",
       "<table border=\"1\" class=\"dataframe\">\n",
       "  <thead>\n",
       "    <tr style=\"text-align: right;\">\n",
       "      <th></th>\n",
       "      <th>score</th>\n",
       "      <th>measure</th>\n",
       "      <th>peer_group</th>\n",
       "      <th>is_alert</th>\n",
       "      <th>has_serious_vio</th>\n",
       "      <th>above_threshold</th>\n",
       "    </tr>\n",
       "  </thead>\n",
       "  <tbody>\n",
       "    <tr>\n",
       "      <th>score</th>\n",
       "      <td>1.000000</td>\n",
       "      <td>0.609731</td>\n",
       "      <td>0.266992</td>\n",
       "      <td>0.724201</td>\n",
       "      <td>0.101088</td>\n",
       "      <td>0.729839</td>\n",
       "    </tr>\n",
       "    <tr>\n",
       "      <th>measure</th>\n",
       "      <td>0.609731</td>\n",
       "      <td>1.000000</td>\n",
       "      <td>-0.095416</td>\n",
       "      <td>0.404780</td>\n",
       "      <td>0.025127</td>\n",
       "      <td>0.409288</td>\n",
       "    </tr>\n",
       "    <tr>\n",
       "      <th>peer_group</th>\n",
       "      <td>0.266992</td>\n",
       "      <td>-0.095416</td>\n",
       "      <td>1.000000</td>\n",
       "      <td>0.227123</td>\n",
       "      <td>0.055035</td>\n",
       "      <td>0.226866</td>\n",
       "    </tr>\n",
       "    <tr>\n",
       "      <th>is_alert</th>\n",
       "      <td>0.724201</td>\n",
       "      <td>0.404780</td>\n",
       "      <td>0.227123</td>\n",
       "      <td>1.000000</td>\n",
       "      <td>0.187809</td>\n",
       "      <td>0.991168</td>\n",
       "    </tr>\n",
       "    <tr>\n",
       "      <th>has_serious_vio</th>\n",
       "      <td>0.101088</td>\n",
       "      <td>0.025127</td>\n",
       "      <td>0.055035</td>\n",
       "      <td>0.187809</td>\n",
       "      <td>1.000000</td>\n",
       "      <td>0.119017</td>\n",
       "    </tr>\n",
       "    <tr>\n",
       "      <th>above_threshold</th>\n",
       "      <td>0.729839</td>\n",
       "      <td>0.409288</td>\n",
       "      <td>0.226866</td>\n",
       "      <td>0.991168</td>\n",
       "      <td>0.119017</td>\n",
       "      <td>1.000000</td>\n",
       "    </tr>\n",
       "  </tbody>\n",
       "</table>\n",
       "</div>"
      ],
      "text/plain": [
       "                    score   measure  peer_group  is_alert  has_serious_vio  \\\n",
       "score            1.000000  0.609731    0.266992  0.724201         0.101088   \n",
       "measure          0.609731  1.000000   -0.095416  0.404780         0.025127   \n",
       "peer_group       0.266992 -0.095416    1.000000  0.227123         0.055035   \n",
       "is_alert         0.724201  0.404780    0.227123  1.000000         0.187809   \n",
       "has_serious_vio  0.101088  0.025127    0.055035  0.187809         1.000000   \n",
       "above_threshold  0.729839  0.409288    0.226866  0.991168         0.119017   \n",
       "\n",
       "                 above_threshold  \n",
       "score                   0.729839  \n",
       "measure                 0.409288  \n",
       "peer_group              0.226866  \n",
       "is_alert                0.991168  \n",
       "has_serious_vio         0.119017  \n",
       "above_threshold         1.000000  "
      ]
     },
     "execution_count": 11,
     "metadata": {},
     "output_type": "execute_result"
    }
   ],
   "source": [
    "# Check the corr values of final list of variables\n",
    "cor = dataset.corr()\n",
    "cor"
   ]
  },
  {
   "cell_type": "code",
   "execution_count": 12,
   "id": "0ff4cb5e",
   "metadata": {},
   "outputs": [
    {
     "name": "stderr",
     "output_type": "stream",
     "text": [
      "C:\\Users\\Admin\\AppData\\Local\\Temp\\ipykernel_11320\\412275717.py:1: FutureWarning: In a future version of pandas all arguments of DataFrame.drop except for the argument 'labels' will be keyword-only.\n",
      "  dataset=dataset.drop([\"is_alert\"],1)\n",
      "C:\\Users\\Admin\\AppData\\Local\\Temp\\ipykernel_11320\\412275717.py:2: FutureWarning: In a future version of pandas all arguments of DataFrame.drop except for the argument 'labels' will be keyword-only.\n",
      "  dataset=dataset.drop([\"display_text\"],1)\n",
      "C:\\Users\\Admin\\AppData\\Local\\Temp\\ipykernel_11320\\412275717.py:3: FutureWarning: In a future version of pandas all arguments of DataFrame.drop except for the argument 'labels' will be keyword-only.\n",
      "  dataset=dataset.drop([\"peer_group\"],1)\n"
     ]
    }
   ],
   "source": [
    "dataset=dataset.drop([\"is_alert\"],1)\n",
    "dataset=dataset.drop([\"display_text\"],1)\n",
    "dataset=dataset.drop([\"peer_group\"],1)"
   ]
  },
  {
   "cell_type": "code",
   "execution_count": 13,
   "id": "f33be79b",
   "metadata": {},
   "outputs": [],
   "source": [
    "#Converting all true values to 1 and false values to 0\n",
    "dataset.above_threshold=dataset.above_threshold.astype(int)\n",
    "dataset.has_serious_vio=dataset.has_serious_vio.astype(int)"
   ]
  },
  {
   "cell_type": "code",
   "execution_count": 14,
   "id": "21c34747",
   "metadata": {},
   "outputs": [
    {
     "data": {
      "text/html": [
       "<div>\n",
       "<style scoped>\n",
       "    .dataframe tbody tr th:only-of-type {\n",
       "        vertical-align: middle;\n",
       "    }\n",
       "\n",
       "    .dataframe tbody tr th {\n",
       "        vertical-align: top;\n",
       "    }\n",
       "\n",
       "    .dataframe thead th {\n",
       "        text-align: right;\n",
       "    }\n",
       "</style>\n",
       "<table border=\"1\" class=\"dataframe\">\n",
       "  <thead>\n",
       "    <tr style=\"text-align: right;\">\n",
       "      <th></th>\n",
       "      <th>score</th>\n",
       "      <th>measure</th>\n",
       "      <th>has_serious_vio</th>\n",
       "      <th>above_threshold</th>\n",
       "    </tr>\n",
       "  </thead>\n",
       "  <tbody>\n",
       "    <tr>\n",
       "      <th>0</th>\n",
       "      <td>50.0</td>\n",
       "      <td>4.59090</td>\n",
       "      <td>0</td>\n",
       "      <td>0</td>\n",
       "    </tr>\n",
       "    <tr>\n",
       "      <th>1</th>\n",
       "      <td>48.0</td>\n",
       "      <td>4.36363</td>\n",
       "      <td>0</td>\n",
       "      <td>0</td>\n",
       "    </tr>\n",
       "    <tr>\n",
       "      <th>2</th>\n",
       "      <td>52.0</td>\n",
       "      <td>4.88888</td>\n",
       "      <td>0</td>\n",
       "      <td>0</td>\n",
       "    </tr>\n",
       "    <tr>\n",
       "      <th>3</th>\n",
       "      <td>52.0</td>\n",
       "      <td>4.88888</td>\n",
       "      <td>0</td>\n",
       "      <td>0</td>\n",
       "    </tr>\n",
       "    <tr>\n",
       "      <th>4</th>\n",
       "      <td>49.0</td>\n",
       "      <td>4.61111</td>\n",
       "      <td>0</td>\n",
       "      <td>0</td>\n",
       "    </tr>\n",
       "    <tr>\n",
       "      <th>5</th>\n",
       "      <td>39.0</td>\n",
       "      <td>3.55555</td>\n",
       "      <td>0</td>\n",
       "      <td>0</td>\n",
       "    </tr>\n",
       "    <tr>\n",
       "      <th>6</th>\n",
       "      <td>26.0</td>\n",
       "      <td>2.47826</td>\n",
       "      <td>0</td>\n",
       "      <td>0</td>\n",
       "    </tr>\n",
       "    <tr>\n",
       "      <th>7</th>\n",
       "      <td>22.0</td>\n",
       "      <td>2.13043</td>\n",
       "      <td>0</td>\n",
       "      <td>0</td>\n",
       "    </tr>\n",
       "    <tr>\n",
       "      <th>8</th>\n",
       "      <td>25.0</td>\n",
       "      <td>2.31578</td>\n",
       "      <td>0</td>\n",
       "      <td>0</td>\n",
       "    </tr>\n",
       "    <tr>\n",
       "      <th>9</th>\n",
       "      <td>25.0</td>\n",
       "      <td>2.31578</td>\n",
       "      <td>0</td>\n",
       "      <td>0</td>\n",
       "    </tr>\n",
       "    <tr>\n",
       "      <th>10</th>\n",
       "      <td>21.0</td>\n",
       "      <td>2.05263</td>\n",
       "      <td>0</td>\n",
       "      <td>0</td>\n",
       "    </tr>\n",
       "    <tr>\n",
       "      <th>11</th>\n",
       "      <td>30.0</td>\n",
       "      <td>2.68421</td>\n",
       "      <td>0</td>\n",
       "      <td>0</td>\n",
       "    </tr>\n",
       "    <tr>\n",
       "      <th>12</th>\n",
       "      <td>31.0</td>\n",
       "      <td>2.78947</td>\n",
       "      <td>0</td>\n",
       "      <td>0</td>\n",
       "    </tr>\n",
       "    <tr>\n",
       "      <th>13</th>\n",
       "      <td>68.0</td>\n",
       "      <td>0.79870</td>\n",
       "      <td>0</td>\n",
       "      <td>1</td>\n",
       "    </tr>\n",
       "    <tr>\n",
       "      <th>14</th>\n",
       "      <td>70.0</td>\n",
       "      <td>0.85333</td>\n",
       "      <td>0</td>\n",
       "      <td>1</td>\n",
       "    </tr>\n",
       "  </tbody>\n",
       "</table>\n",
       "</div>"
      ],
      "text/plain": [
       "    score  measure  has_serious_vio  above_threshold\n",
       "0    50.0  4.59090                0                0\n",
       "1    48.0  4.36363                0                0\n",
       "2    52.0  4.88888                0                0\n",
       "3    52.0  4.88888                0                0\n",
       "4    49.0  4.61111                0                0\n",
       "5    39.0  3.55555                0                0\n",
       "6    26.0  2.47826                0                0\n",
       "7    22.0  2.13043                0                0\n",
       "8    25.0  2.31578                0                0\n",
       "9    25.0  2.31578                0                0\n",
       "10   21.0  2.05263                0                0\n",
       "11   30.0  2.68421                0                0\n",
       "12   31.0  2.78947                0                0\n",
       "13   68.0  0.79870                0                1\n",
       "14   70.0  0.85333                0                1"
      ]
     },
     "execution_count": 14,
     "metadata": {},
     "output_type": "execute_result"
    }
   ],
   "source": [
    "dataset.head(15)"
   ]
  },
  {
   "cell_type": "code",
   "execution_count": 15,
   "id": "bfcc375f",
   "metadata": {},
   "outputs": [
    {
     "data": {
      "text/plain": [
       "0    56566\n",
       "1    19870\n",
       "Name: above_threshold, dtype: int64"
      ]
     },
     "execution_count": 15,
     "metadata": {},
     "output_type": "execute_result"
    }
   ],
   "source": [
    "dataset.above_threshold.value_counts()"
   ]
  },
  {
   "cell_type": "code",
   "execution_count": 16,
   "id": "d30e721e",
   "metadata": {},
   "outputs": [],
   "source": [
    "X = dataset.loc[:, dataset.columns != 'above_threshold']"
   ]
  },
  {
   "cell_type": "code",
   "execution_count": 17,
   "id": "e41567c3",
   "metadata": {},
   "outputs": [],
   "source": [
    "y = dataset.above_threshold"
   ]
  },
  {
   "cell_type": "code",
   "execution_count": 18,
   "id": "c404b90a",
   "metadata": {},
   "outputs": [],
   "source": [
    "from imblearn.combine import SMOTETomek\n",
    "from imblearn.under_sampling import NearMiss"
   ]
  },
  {
   "cell_type": "code",
   "execution_count": 19,
   "id": "d28dc6fe",
   "metadata": {},
   "outputs": [],
   "source": [
    "# Implementing Oversampling for Handling Imbalanced \n",
    "smk = SMOTETomek(random_state=42)\n",
    "X_res,y_res=smk.fit_resample(X,y)"
   ]
  },
  {
   "cell_type": "code",
   "execution_count": 20,
   "id": "01b61c11",
   "metadata": {},
   "outputs": [
    {
     "data": {
      "text/plain": [
       "((112506, 3), (112506,))"
      ]
     },
     "execution_count": 20,
     "metadata": {},
     "output_type": "execute_result"
    }
   ],
   "source": [
    "X_res.shape,y_res.shape"
   ]
  },
  {
   "cell_type": "code",
   "execution_count": 21,
   "id": "53fe83e5",
   "metadata": {},
   "outputs": [],
   "source": [
    "# splitting dataset into training and test (in ratio 80:20)\n",
    "X_res_train, X_res_test, y_res_train, y_res_test = train_test_split(X_res, y_res, test_size=0.2, random_state=0)"
   ]
  },
  {
   "cell_type": "code",
   "execution_count": 22,
   "id": "057b5b55",
   "metadata": {},
   "outputs": [
    {
     "data": {
      "text/html": [
       "<div>\n",
       "<style scoped>\n",
       "    .dataframe tbody tr th:only-of-type {\n",
       "        vertical-align: middle;\n",
       "    }\n",
       "\n",
       "    .dataframe tbody tr th {\n",
       "        vertical-align: top;\n",
       "    }\n",
       "\n",
       "    .dataframe thead th {\n",
       "        text-align: right;\n",
       "    }\n",
       "</style>\n",
       "<table border=\"1\" class=\"dataframe\">\n",
       "  <thead>\n",
       "    <tr style=\"text-align: right;\">\n",
       "      <th></th>\n",
       "      <th>score</th>\n",
       "      <th>measure</th>\n",
       "      <th>has_serious_vio</th>\n",
       "    </tr>\n",
       "  </thead>\n",
       "  <tbody>\n",
       "    <tr>\n",
       "      <th>33478</th>\n",
       "      <td>8.0</td>\n",
       "      <td>1.09636</td>\n",
       "      <td>0</td>\n",
       "    </tr>\n",
       "    <tr>\n",
       "      <th>4726</th>\n",
       "      <td>29.0</td>\n",
       "      <td>0.26041</td>\n",
       "      <td>0</td>\n",
       "    </tr>\n",
       "    <tr>\n",
       "      <th>45769</th>\n",
       "      <td>0.0</td>\n",
       "      <td>0.00000</td>\n",
       "      <td>0</td>\n",
       "    </tr>\n",
       "    <tr>\n",
       "      <th>52803</th>\n",
       "      <td>33.0</td>\n",
       "      <td>2.92718</td>\n",
       "      <td>0</td>\n",
       "    </tr>\n",
       "    <tr>\n",
       "      <th>26677</th>\n",
       "      <td>44.0</td>\n",
       "      <td>0.20000</td>\n",
       "      <td>0</td>\n",
       "    </tr>\n",
       "    <tr>\n",
       "      <th>...</th>\n",
       "      <td>...</td>\n",
       "      <td>...</td>\n",
       "      <td>...</td>\n",
       "    </tr>\n",
       "    <tr>\n",
       "      <th>21243</th>\n",
       "      <td>19.0</td>\n",
       "      <td>1.78390</td>\n",
       "      <td>0</td>\n",
       "    </tr>\n",
       "    <tr>\n",
       "      <th>45891</th>\n",
       "      <td>0.0</td>\n",
       "      <td>0.00000</td>\n",
       "      <td>0</td>\n",
       "    </tr>\n",
       "    <tr>\n",
       "      <th>42613</th>\n",
       "      <td>78.0</td>\n",
       "      <td>6.30063</td>\n",
       "      <td>0</td>\n",
       "    </tr>\n",
       "    <tr>\n",
       "      <th>43567</th>\n",
       "      <td>0.0</td>\n",
       "      <td>0.00000</td>\n",
       "      <td>0</td>\n",
       "    </tr>\n",
       "    <tr>\n",
       "      <th>68268</th>\n",
       "      <td>0.0</td>\n",
       "      <td>0.00000</td>\n",
       "      <td>0</td>\n",
       "    </tr>\n",
       "  </tbody>\n",
       "</table>\n",
       "<p>90004 rows × 3 columns</p>\n",
       "</div>"
      ],
      "text/plain": [
       "       score  measure  has_serious_vio\n",
       "33478    8.0  1.09636                0\n",
       "4726    29.0  0.26041                0\n",
       "45769    0.0  0.00000                0\n",
       "52803   33.0  2.92718                0\n",
       "26677   44.0  0.20000                0\n",
       "...      ...      ...              ...\n",
       "21243   19.0  1.78390                0\n",
       "45891    0.0  0.00000                0\n",
       "42613   78.0  6.30063                0\n",
       "43567    0.0  0.00000                0\n",
       "68268    0.0  0.00000                0\n",
       "\n",
       "[90004 rows x 3 columns]"
      ]
     },
     "execution_count": 22,
     "metadata": {},
     "output_type": "execute_result"
    }
   ],
   "source": [
    "X_res_train"
   ]
  },
  {
   "cell_type": "code",
   "execution_count": 23,
   "id": "8783b053",
   "metadata": {},
   "outputs": [
    {
     "data": {
      "text/html": [
       "<div>\n",
       "<style scoped>\n",
       "    .dataframe tbody tr th:only-of-type {\n",
       "        vertical-align: middle;\n",
       "    }\n",
       "\n",
       "    .dataframe tbody tr th {\n",
       "        vertical-align: top;\n",
       "    }\n",
       "\n",
       "    .dataframe thead th {\n",
       "        text-align: right;\n",
       "    }\n",
       "</style>\n",
       "<table border=\"1\" class=\"dataframe\">\n",
       "  <thead>\n",
       "    <tr style=\"text-align: right;\">\n",
       "      <th></th>\n",
       "      <th>score</th>\n",
       "      <th>measure</th>\n",
       "      <th>has_serious_vio</th>\n",
       "    </tr>\n",
       "  </thead>\n",
       "  <tbody>\n",
       "    <tr>\n",
       "      <th>33478</th>\n",
       "      <td>-1.416634</td>\n",
       "      <td>-0.496304</td>\n",
       "      <td>0</td>\n",
       "    </tr>\n",
       "    <tr>\n",
       "      <th>4726</th>\n",
       "      <td>-0.788233</td>\n",
       "      <td>-0.721001</td>\n",
       "      <td>0</td>\n",
       "    </tr>\n",
       "    <tr>\n",
       "      <th>45769</th>\n",
       "      <td>-1.656025</td>\n",
       "      <td>-0.790997</td>\n",
       "      <td>0</td>\n",
       "    </tr>\n",
       "    <tr>\n",
       "      <th>52803</th>\n",
       "      <td>-0.668537</td>\n",
       "      <td>-0.004195</td>\n",
       "      <td>0</td>\n",
       "    </tr>\n",
       "    <tr>\n",
       "      <th>26677</th>\n",
       "      <td>-0.339375</td>\n",
       "      <td>-0.737239</td>\n",
       "      <td>0</td>\n",
       "    </tr>\n",
       "  </tbody>\n",
       "</table>\n",
       "</div>"
      ],
      "text/plain": [
       "          score   measure  has_serious_vio\n",
       "33478 -1.416634 -0.496304                0\n",
       "4726  -0.788233 -0.721001                0\n",
       "45769 -1.656025 -0.790997                0\n",
       "52803 -0.668537 -0.004195                0\n",
       "26677 -0.339375 -0.737239                0"
      ]
     },
     "execution_count": 23,
     "metadata": {},
     "output_type": "execute_result"
    }
   ],
   "source": [
    "## standardizing the dataset\n",
    "scaler = StandardScaler()\n",
    "\n",
    "X_res_train[['score','measure']] = scaler.fit_transform(X_res_train[['score','measure']])\n",
    "\n",
    "X_res_train.head()"
   ]
  },
  {
   "cell_type": "code",
   "execution_count": 24,
   "id": "fd89ccd0",
   "metadata": {},
   "outputs": [
    {
     "data": {
      "text/html": [
       "<div>\n",
       "<style scoped>\n",
       "    .dataframe tbody tr th:only-of-type {\n",
       "        vertical-align: middle;\n",
       "    }\n",
       "\n",
       "    .dataframe tbody tr th {\n",
       "        vertical-align: top;\n",
       "    }\n",
       "\n",
       "    .dataframe thead th {\n",
       "        text-align: right;\n",
       "    }\n",
       "</style>\n",
       "<table border=\"1\" class=\"dataframe\">\n",
       "  <thead>\n",
       "    <tr style=\"text-align: right;\">\n",
       "      <th></th>\n",
       "      <th>const</th>\n",
       "      <th>score</th>\n",
       "      <th>measure</th>\n",
       "      <th>has_serious_vio</th>\n",
       "    </tr>\n",
       "  </thead>\n",
       "  <tbody>\n",
       "    <tr>\n",
       "      <th>33478</th>\n",
       "      <td>1.0</td>\n",
       "      <td>-1.416634</td>\n",
       "      <td>-0.496304</td>\n",
       "      <td>0</td>\n",
       "    </tr>\n",
       "    <tr>\n",
       "      <th>4726</th>\n",
       "      <td>1.0</td>\n",
       "      <td>-0.788233</td>\n",
       "      <td>-0.721001</td>\n",
       "      <td>0</td>\n",
       "    </tr>\n",
       "    <tr>\n",
       "      <th>45769</th>\n",
       "      <td>1.0</td>\n",
       "      <td>-1.656025</td>\n",
       "      <td>-0.790997</td>\n",
       "      <td>0</td>\n",
       "    </tr>\n",
       "    <tr>\n",
       "      <th>52803</th>\n",
       "      <td>1.0</td>\n",
       "      <td>-0.668537</td>\n",
       "      <td>-0.004195</td>\n",
       "      <td>0</td>\n",
       "    </tr>\n",
       "    <tr>\n",
       "      <th>26677</th>\n",
       "      <td>1.0</td>\n",
       "      <td>-0.339375</td>\n",
       "      <td>-0.737239</td>\n",
       "      <td>0</td>\n",
       "    </tr>\n",
       "  </tbody>\n",
       "</table>\n",
       "</div>"
      ],
      "text/plain": [
       "       const     score   measure  has_serious_vio\n",
       "33478    1.0 -1.416634 -0.496304                0\n",
       "4726     1.0 -0.788233 -0.721001                0\n",
       "45769    1.0 -1.656025 -0.790997                0\n",
       "52803    1.0 -0.668537 -0.004195                0\n",
       "26677    1.0 -0.339375 -0.737239                0"
      ]
     },
     "execution_count": 24,
     "metadata": {},
     "output_type": "execute_result"
    }
   ],
   "source": [
    "from statsmodels.tools import add_constant as add_constant\n",
    "X_res_train_constant = add_constant(X_res_train)\n",
    "X_res_train_constant.head()"
   ]
  },
  {
   "cell_type": "code",
   "execution_count": 26,
   "id": "cd8afbdd",
   "metadata": {},
   "outputs": [
    {
     "data": {
      "text/html": [
       "<style>#sk-container-id-1 {color: black;background-color: white;}#sk-container-id-1 pre{padding: 0;}#sk-container-id-1 div.sk-toggleable {background-color: white;}#sk-container-id-1 label.sk-toggleable__label {cursor: pointer;display: block;width: 100%;margin-bottom: 0;padding: 0.3em;box-sizing: border-box;text-align: center;}#sk-container-id-1 label.sk-toggleable__label-arrow:before {content: \"▸\";float: left;margin-right: 0.25em;color: #696969;}#sk-container-id-1 label.sk-toggleable__label-arrow:hover:before {color: black;}#sk-container-id-1 div.sk-estimator:hover label.sk-toggleable__label-arrow:before {color: black;}#sk-container-id-1 div.sk-toggleable__content {max-height: 0;max-width: 0;overflow: hidden;text-align: left;background-color: #f0f8ff;}#sk-container-id-1 div.sk-toggleable__content pre {margin: 0.2em;color: black;border-radius: 0.25em;background-color: #f0f8ff;}#sk-container-id-1 input.sk-toggleable__control:checked~div.sk-toggleable__content {max-height: 200px;max-width: 100%;overflow: auto;}#sk-container-id-1 input.sk-toggleable__control:checked~label.sk-toggleable__label-arrow:before {content: \"▾\";}#sk-container-id-1 div.sk-estimator input.sk-toggleable__control:checked~label.sk-toggleable__label {background-color: #d4ebff;}#sk-container-id-1 div.sk-label input.sk-toggleable__control:checked~label.sk-toggleable__label {background-color: #d4ebff;}#sk-container-id-1 input.sk-hidden--visually {border: 0;clip: rect(1px 1px 1px 1px);clip: rect(1px, 1px, 1px, 1px);height: 1px;margin: -1px;overflow: hidden;padding: 0;position: absolute;width: 1px;}#sk-container-id-1 div.sk-estimator {font-family: monospace;background-color: #f0f8ff;border: 1px dotted black;border-radius: 0.25em;box-sizing: border-box;margin-bottom: 0.5em;}#sk-container-id-1 div.sk-estimator:hover {background-color: #d4ebff;}#sk-container-id-1 div.sk-parallel-item::after {content: \"\";width: 100%;border-bottom: 1px solid gray;flex-grow: 1;}#sk-container-id-1 div.sk-label:hover label.sk-toggleable__label {background-color: #d4ebff;}#sk-container-id-1 div.sk-serial::before {content: \"\";position: absolute;border-left: 1px solid gray;box-sizing: border-box;top: 0;bottom: 0;left: 50%;z-index: 0;}#sk-container-id-1 div.sk-serial {display: flex;flex-direction: column;align-items: center;background-color: white;padding-right: 0.2em;padding-left: 0.2em;position: relative;}#sk-container-id-1 div.sk-item {position: relative;z-index: 1;}#sk-container-id-1 div.sk-parallel {display: flex;align-items: stretch;justify-content: center;background-color: white;position: relative;}#sk-container-id-1 div.sk-item::before, #sk-container-id-1 div.sk-parallel-item::before {content: \"\";position: absolute;border-left: 1px solid gray;box-sizing: border-box;top: 0;bottom: 0;left: 50%;z-index: -1;}#sk-container-id-1 div.sk-parallel-item {display: flex;flex-direction: column;z-index: 1;position: relative;background-color: white;}#sk-container-id-1 div.sk-parallel-item:first-child::after {align-self: flex-end;width: 50%;}#sk-container-id-1 div.sk-parallel-item:last-child::after {align-self: flex-start;width: 50%;}#sk-container-id-1 div.sk-parallel-item:only-child::after {width: 0;}#sk-container-id-1 div.sk-dashed-wrapped {border: 1px dashed gray;margin: 0 0.4em 0.5em 0.4em;box-sizing: border-box;padding-bottom: 0.4em;background-color: white;}#sk-container-id-1 div.sk-label label {font-family: monospace;font-weight: bold;display: inline-block;line-height: 1.2em;}#sk-container-id-1 div.sk-label-container {text-align: center;}#sk-container-id-1 div.sk-container {/* jupyter's `normalize.less` sets `[hidden] { display: none; }` but bootstrap.min.css set `[hidden] { display: none !important; }` so we also need the `!important` here to be able to override the default hidden behavior on the sphinx rendered scikit-learn.org. See: https://github.com/scikit-learn/scikit-learn/issues/21755 */display: inline-block !important;position: relative;}#sk-container-id-1 div.sk-text-repr-fallback {display: none;}</style><div id=\"sk-container-id-1\" class=\"sk-top-container\"><div class=\"sk-text-repr-fallback\"><pre>LogisticRegression()</pre><b>In a Jupyter environment, please rerun this cell to show the HTML representation or trust the notebook. <br />On GitHub, the HTML representation is unable to render, please try loading this page with nbviewer.org.</b></div><div class=\"sk-container\" hidden><div class=\"sk-item\"><div class=\"sk-estimator sk-toggleable\"><input class=\"sk-toggleable__control sk-hidden--visually\" id=\"sk-estimator-id-1\" type=\"checkbox\" checked><label for=\"sk-estimator-id-1\" class=\"sk-toggleable__label sk-toggleable__label-arrow\">LogisticRegression</label><div class=\"sk-toggleable__content\"><pre>LogisticRegression()</pre></div></div></div></div></div>"
      ],
      "text/plain": [
       "LogisticRegression()"
      ]
     },
     "execution_count": 26,
     "metadata": {},
     "output_type": "execute_result"
    }
   ],
   "source": [
    "logreg = LogisticRegression()\n",
    "logreg.fit(X_res_train, y_res_train)"
   ]
  },
  {
   "cell_type": "code",
   "execution_count": 27,
   "id": "dad4cf2b",
   "metadata": {},
   "outputs": [],
   "source": [
    "y_train_pred = logreg.predict(X_res_train)"
   ]
  },
  {
   "cell_type": "code",
   "execution_count": 28,
   "id": "94182849",
   "metadata": {},
   "outputs": [
    {
     "name": "stdout",
     "output_type": "stream",
     "text": [
      "[[42280  2762]\n",
      " [ 1367 43595]]\n"
     ]
    }
   ],
   "source": [
    "print(confusion_matrix(y_res_train,y_train_pred))"
   ]
  },
  {
   "cell_type": "code",
   "execution_count": 29,
   "id": "df4734bb",
   "metadata": {},
   "outputs": [
    {
     "name": "stdout",
     "output_type": "stream",
     "text": [
      "0.9541242611439491\n"
     ]
    }
   ],
   "source": [
    "print(accuracy_score(y_res_train, y_train_pred))"
   ]
  },
  {
   "cell_type": "code",
   "execution_count": 30,
   "id": "2a9db712",
   "metadata": {},
   "outputs": [],
   "source": [
    "from sklearn.metrics import classification_report"
   ]
  },
  {
   "cell_type": "code",
   "execution_count": 31,
   "id": "c6993174",
   "metadata": {},
   "outputs": [
    {
     "name": "stdout",
     "output_type": "stream",
     "text": [
      "              precision    recall  f1-score   support\n",
      "\n",
      "           0       0.97      0.94      0.95     45042\n",
      "           1       0.94      0.97      0.95     44962\n",
      "\n",
      "    accuracy                           0.95     90004\n",
      "   macro avg       0.95      0.95      0.95     90004\n",
      "weighted avg       0.95      0.95      0.95     90004\n",
      "\n"
     ]
    }
   ],
   "source": [
    "print(classification_report(y_res_train,y_train_pred))"
   ]
  },
  {
   "cell_type": "code",
   "execution_count": 32,
   "id": "0a34078a",
   "metadata": {},
   "outputs": [
    {
     "name": "stdout",
     "output_type": "stream",
     "text": [
      "[[9.99999981e-01 1.86446629e-08]\n",
      " [9.99982385e-01 1.76149907e-05]\n",
      " [9.99999998e-01 2.04380227e-09]\n",
      " ...\n",
      " [5.81668180e-02 9.41833182e-01]\n",
      " [9.99999998e-01 2.04380227e-09]\n",
      " [9.99999998e-01 2.04380227e-09]]\n",
      "Logistic: ROC AUC = 0.990\n"
     ]
    },
    {
     "data": {
      "image/png": "[encoded data removed]",
      "text/plain": [
       "<Figure size 432x288 with 1 Axes>"
      ]
     },
     "metadata": {
      "needs_background": "light"
     },
     "output_type": "display_data"
    }
   ],
   "source": [
    "#Performance Metrics AUC, ROC\n",
    "from sklearn.metrics import roc_curve\n",
    "from sklearn.metrics import roc_auc_score\n",
    "\n",
    "lr_probs=logreg.predict_proba(X_res_train)\n",
    "print(lr_probs)\n",
    "\n",
    "\n",
    "lr_probs = lr_probs[:, 1]\n",
    "\n",
    "\n",
    "lr_auc = roc_auc_score(y_res_train, lr_probs)\n",
    "\n",
    "\n",
    "print('Logistic: ROC AUC = %.3f' % (lr_auc))\n",
    "\n",
    "\n",
    "lr_fpr, lr_tpr, _ = roc_curve(y_res_train, lr_probs)\n",
    "\n",
    "plt.plot(lr_fpr, lr_tpr, marker='.')\n",
    "\n",
    "plt.xlabel('False Positive Rate')\n",
    "plt.ylabel('True Positive Rate')\n",
    "plt.show()"
   ]
  },
  {
   "cell_type": "code",
   "execution_count": null,
   "id": "34e42766",
   "metadata": {},
   "outputs": [],
   "source": []
  },
  {
   "cell_type": "code",
   "execution_count": null,
   "id": "ca907e5d",
   "metadata": {},
   "outputs": [],
   "source": []
  }
 ],
 "metadata": {
  "kernelspec": {
   "display_name": "Python 3 (ipykernel)",
   "language": "python",
   "name": "python3"
  },
  "language_info": {
   "codemirror_mode": {
    "name": "ipython",
    "version": 3
   },
   "file_extension": ".py",
   "mimetype": "text/x-python",
   "name": "python",
   "nbconvert_exporter": "python",
   "pygments_lexer": "ipython3",
   "version": "3.9.12"
  }
 },
 "nbformat": 4,
 "nbformat_minor": 5
}
